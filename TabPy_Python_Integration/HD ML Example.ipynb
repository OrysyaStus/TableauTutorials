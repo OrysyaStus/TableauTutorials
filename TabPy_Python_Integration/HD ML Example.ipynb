{
 "cells": [
  {
   "cell_type": "markdown",
   "metadata": {},
   "source": [
    "# Using Python and Machine Learning Algorithms within Tableau: Heart Disease\n",
    "\n",
    "UCI Machine Learning Repository link:\n",
    "\n",
    "https://archive.ics.uci.edu/ml/datasets/Heart+Disease\n",
    "    \n",
    "Used reference code to deploy functions to Tableau via TabPy:\n",
    "\n",
    "https://www.tableau.com/about/blog/2017/1/building-advanced-analytics-applications-tabpy-64916"
   ]
  },
  {
   "cell_type": "code",
   "execution_count": null,
   "metadata": {},
   "outputs": [],
   "source": [
    "# Import necessary packages into Python\n",
    "import math\n",
    "import numpy as np\n",
    "import pandas as pd\n",
    "from sklearn.grid_search import GridSearchCV\n",
    "from sklearn.linear_model import LogisticRegressionCV\n",
    "from sklearn.naive_bayes import GaussianNB\n",
    "from sklearn.cross_validation import cross_val_score, cross_val_predict, StratifiedKFold \n",
    "from sklearn import preprocessing, metrics, svm, ensemble\n",
    "from sklearn.metrics import accuracy_score, classification_report\n",
    "import tabpy_client\n",
    "%pylab inline"
   ]
  },
  {
   "cell_type": "markdown",
   "metadata": {},
   "source": [
    "### Data pre-processing: drop nulls, examine class attribute"
   ]
  },
  {
   "cell_type": "code",
   "execution_count": null,
   "metadata": {},
   "outputs": [],
   "source": [
    "hd = pd.read_csv('./processed.cleveland.data.csv', names= [\"age\", \"sex\", \"chest_pain\", \"resting_bp\", \"chol\", \"fbs\", \"restecg\", \"thalach\", \"exang\", \"oldpeak\", \"slope\", \"ca\", \"thal\", \"diagnosis\"])\n",
    "print 'The size of the file, before nulls dropped, is: ', hd.shape\n",
    "\n",
    "hd = hd.replace('?', np.nan)\n",
    "hd = hd.dropna()\n",
    "# Define diagnosis of 1-4 as 'risk' and 0 as 'healthy'\n",
    "def diagnosis(row):\n",
    "    if row['diagnosis'] > 0:\n",
    "        return 'risk'\n",
    "    else:\n",
    "        return 'healthy'\n",
    "hd['diagnosis'] = hd.apply(diagnosis, axis=1)\n",
    "print 'The size of the file, after nulls dropped, is: ', hd.shape\n",
    "#hd.to_csv('./cleveland_data_for tableau.csv', index=False)\n",
    "hd.head()"
   ]
  },
  {
   "cell_type": "code",
   "execution_count": null,
   "metadata": {},
   "outputs": [],
   "source": [
    "hd.groupby('diagnosis').describe()"
   ]
  },
  {
   "cell_type": "code",
   "execution_count": null,
   "metadata": {},
   "outputs": [],
   "source": [
    "# Since class attribute is vales 0-4, there is no need to convert text to numeric using encoder, no transformation needed\n",
    "encoder = preprocessing.LabelEncoder()\n",
    "hd['diagnosis'] = encoder.fit_transform(hd['diagnosis'])\n",
    "hd.head()"
   ]
  },
  {
   "cell_type": "code",
   "execution_count": null,
   "metadata": {
    "collapsed": true
   },
   "outputs": [],
   "source": [
    "# Split data into X, y\n",
    "X = np.array(hd.drop(['diagnosis'], 1))\n",
    "y = np.array(hd['diagnosis'])"
   ]
  },
  {
   "cell_type": "markdown",
   "metadata": {},
   "source": [
    "Support Vector Machine reference:\n",
    "\n",
    "http://scikit-learn.org/stable/modules/svm.html\n",
    "\n",
    "To determine which model evaluations work best, via 'scoring':\n",
    "\n",
    "http://scikit-learn.org/stable/modules/model_evaluation.html#scoring-parameter"
   ]
  },
  {
   "cell_type": "code",
   "execution_count": null,
   "metadata": {},
   "outputs": [],
   "source": [
    "# Scale the data (Assume that all features are centered around 0 and have variance in the same order. If a feature has a variance that is orders of magnitude larger that others, it might dominate the objective function and make the estimator unable to learn from other features correctly as expected.)\n",
    "# Note in order for StandardScaler to work, need to remove any nulls in data set prior to running\n",
    "scalar = preprocessing.StandardScaler().fit(X)\n",
    "X = scalar.transform(X)\n",
    "\n",
    "# 10 fold stratified cross validation\n",
    "kf = StratifiedKFold(y, n_folds=10, random_state=None, shuffle=True)\n",
    "\n",
    "# Define the parameter grid to use for tuning the Support Vector Machine\n",
    "parameters = [{'kernel': ['rbf'], 'gamma': [1e-3, 1e-4], 'C': [1, 10, 100, 1000]},\n",
    "              {'kernel': ['linear'], 'C': [1, 10, 100, 1000]}]\n",
    "\n",
    "# Choose performance measures for modeling\n",
    "scoringmethods = ['f1','accuracy','precision', 'recall','roc_auc']\n",
    "# scoringmethods = ['f1_weighted', 'accuracy', 'precision_weighted', 'recall_weighted']"
   ]
  },
  {
   "cell_type": "code",
   "execution_count": null,
   "metadata": {
    "scrolled": false
   },
   "outputs": [],
   "source": [
    "# Iterate through different metrics looking for best parameter set\n",
    "for score in scoringmethods:\n",
    "    print(\"~~~ Hyper-parameter tuning for best %s ~~~\" % score)\n",
    "    \n",
    "    # Setup for grid search with cross-validation for Support Vector Machine\n",
    "    # n_jobs=-1 for parallel execution using all available cores\n",
    "    svmclf = GridSearchCV(svm.SVC(C=1), parameters, cv=kf, scoring=score,n_jobs=-1)\n",
    "    svmclf.fit(X, y)\n",
    "    \n",
    "    # Show each result from grid search\n",
    "    print(\"Scores for different parameter combinations in the grid:\")\n",
    "    for params, mean_score, scores in svmclf.grid_scores_:\n",
    "        print(\"  %0.3f (+/-%0.03f) for %r\"\n",
    "              % (mean_score, scores.std() / 2, params)) \n",
    "    print(\"\")\n",
    "    \n",
    "# Show classification report for the best model (set of parameters) run over the full dataset\n",
    "print(\"Classification report:\")\n",
    "y_pred = svmclf.predict(X)\n",
    "print(classification_report(y, y_pred))\n",
    "    \n",
    "# Show the definition of the best model\n",
    "print(\"Best model:\")\n",
    "print(svmclf.best_estimator_)\n",
    "    \n",
    "# Show accuracy\n",
    "print(\"Accuracy: %0.3f\" % accuracy_score(y, y_pred, normalize=True))\n",
    "print(\"Aucroc: %0.3f\" % metrics.roc_auc_score(y, y_pred))\n",
    "print(\"\")"
   ]
  },
  {
   "cell_type": "code",
   "execution_count": null,
   "metadata": {},
   "outputs": [],
   "source": [
    "# Logistic regression with 10 fold stratified cross-validation using model specific cross-validation in scikit-learn\n",
    "lgclf = LogisticRegressionCV(Cs=list(np.power(10.0, np.arange(-10, 10))),penalty='l2',scoring='roc_auc',cv=kf)\n",
    "lgclf.fit(X, y)\n",
    "y_pred = lgclf.predict(X)\n",
    "\n",
    "# Show classification report for the best model (set of parameters) run over the full dataset\n",
    "print(\"Classification report:\")\n",
    "print(classification_report(y, y_pred))\n",
    "\n",
    "# Show accuracy and area under ROC curve\n",
    "print(\"Accuracy: %0.3f\" % accuracy_score(y, y_pred, normalize=True))\n",
    "print(\"Aucroc: %0.3f\" % metrics.roc_auc_score(y, y_pred))"
   ]
  },
  {
   "cell_type": "code",
   "execution_count": null,
   "metadata": {},
   "outputs": [],
   "source": [
    "# Naive Bayes with 10 fold stratified cross-validation\n",
    "nbclf = GaussianNB()\n",
    "scores = cross_val_score(nbclf, X, y, cv=kf, scoring= 'accuracy')\n",
    "\n",
    "print(\"Accuracy: %0.3f\" % (scores.mean()))\n",
    "print(\"Aucroc: %0.3f\" % metrics.roc_auc_score(y, cross_val_predict(nbclf, X, y, cv=kf)))"
   ]
  },
  {
   "cell_type": "code",
   "execution_count": null,
   "metadata": {},
   "outputs": [],
   "source": [
    "# Define the parameter grid to use for tuning the Gradient Boosting Classifier\n",
    "gridparams = dict(learning_rate=[0.01, 0.1],loss=['deviance','exponential'])\n",
    "\n",
    "# Parameters we're not tuning for this classifier\n",
    "params = {'n_estimators': 100, 'max_depth': 4}\n",
    "\n",
    "# Setup for grid search with cross-validation for Gradient Boosting Classifier\n",
    "# n_jobs=-1 for parallel execution using all available cores\n",
    "gbclf = GridSearchCV(ensemble.GradientBoostingClassifier(**params), gridparams, cv=kf, scoring='roc_auc',n_jobs=-1)\n",
    "gbclf.fit(X,y)\n",
    "\n",
    "# Show the definition of the best model\n",
    "print(\"Best model:\")\n",
    "print(gbclf.best_estimator_)\n",
    "print(\"\")\n",
    "\n",
    "# Show classification report for the best model (set of parameters) run over the full dataset\n",
    "print(\"Classification report:\")    \n",
    "y_pred = gbclf.predict(X)\n",
    "print(classification_report(y, y_pred))\n",
    "\n",
    "# Show accuracy and area under ROC curve\n",
    "print(\"Accuracy: %0.3f\" % accuracy_score(y, y_pred, normalize=True))\n",
    "print(\"Aucroc: %0.3f\" % metrics.roc_auc_score(y, y_pred))"
   ]
  },
  {
   "cell_type": "code",
   "execution_count": null,
   "metadata": {
    "collapsed": true
   },
   "outputs": [],
   "source": [
    "# Connect to TabPy server using the client library\n",
    "connection = tabpy_client.Client('http://localhost:9004/')"
   ]
  },
  {
   "cell_type": "code",
   "execution_count": null,
   "metadata": {
    "collapsed": true
   },
   "outputs": [],
   "source": [
    "# The scoring function that will use the Gradient Boosting Classifier to classify new data points\n",
    "def HDDiagnosis(age, sex, chest_pain, resting_bp, chol, fbs, restecg, thalach, exang, oldpeak, slope, ca, thal):\n",
    "    X = np.column_stack([age, sex, chest_pain, resting_bp, chol, fbs, restecg, thalach, exang, oldpeak, slope, ca, thal])\n",
    "    X = scalar.transform(X)\n",
    "    return encoder.inverse_transform(gbclf.predict(X)).tolist()"
   ]
  },
  {
   "cell_type": "code",
   "execution_count": null,
   "metadata": {
    "collapsed": true
   },
   "outputs": [],
   "source": [
    "connection.deploy('HDDiagnosis',\n",
    "                  HDDiagnosis,\n",
    "                  'Returns diagnosis suggestion (healthy or risk) based on ensemble model trained using Cleveland Heart Disease dataset',\n",
    "                  override=True)"
   ]
  },
  {
   "cell_type": "code",
   "execution_count": null,
   "metadata": {
    "collapsed": true
   },
   "outputs": [],
   "source": []
  }
 ],
 "metadata": {
  "anaconda-cloud": {},
  "kernelspec": {
   "display_name": "Python [default]",
   "language": "python",
   "name": "python2"
  },
  "language_info": {
   "codemirror_mode": {
    "name": "ipython",
    "version": 2
   },
   "file_extension": ".py",
   "mimetype": "text/x-python",
   "name": "python",
   "nbconvert_exporter": "python",
   "pygments_lexer": "ipython2",
   "version": "2.7.10"
  }
 },
 "nbformat": 4,
 "nbformat_minor": 1
}
